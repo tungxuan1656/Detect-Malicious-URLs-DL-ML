{
  "nbformat": 4,
  "nbformat_minor": 0,
  "metadata": {
    "colab": {
      "name": "CodeTQT-2.ipynb",
      "version": "0.3.2",
      "provenance": [],
      "collapsed_sections": []
    },
    "language_info": {
      "codemirror_mode": {
        "name": "ipython",
        "version": 3
      },
      "file_extension": ".py",
      "mimetype": "text/x-python",
      "name": "python",
      "nbconvert_exporter": "python",
      "pygments_lexer": "ipython3",
      "version": "3.6.6"
    },
    "kernelspec": {
      "name": "python3",
      "display_name": "Python 3"
    },
    "accelerator": "GPU"
  },
  "cells": [
    {
      "cell_type": "code",
      "metadata": {
        "id": "qRRNvycP1ZE3",
        "colab_type": "code",
        "colab": {}
      },
      "source": [
        "import numpy as np\n",
        "import random\n",
        "import math\n",
        "import keras\n",
        "import pandas as pd\n",
        "from sklearn.model_selection import train_test_split\n",
        "from sklearn.metrics import confusion_matrix\n",
        "from keras.utils import to_categorical\n",
        "from keras.callbacks import EarlyStopping\n",
        "from keras.models import Sequential\n",
        "from keras.layers import Dense, Activation, Dropout, Conv2D, MaxPooling2D, GlobalMaxPooling2D, Flatten, Input, Reshape, LSTM"
      ],
      "execution_count": 0,
      "outputs": []
    },
    {
      "cell_type": "code",
      "metadata": {
        "id": "kHzwSb3K1ZE9",
        "colab_type": "code",
        "colab": {}
      },
      "source": [
        "def loadData(file):\n",
        "    with open(file, 'r', encoding=\"utf8\") as f:\n",
        "        data = f.readlines()\n",
        "    result = []\n",
        "    for d in data:\n",
        "        d = d.strip()\n",
        "        if (len(d) > 0):\n",
        "            result.append(d)\n",
        "    return result\n",
        "def print_result(y_pred, y_test, clf_name):\n",
        "    matrix = confusion_matrix(y_test, y_pred)\n",
        "    TP, FP = matrix[0]\n",
        "    FN, TN = matrix[1]\n",
        "    PPV = (TP * 1.0) / (TP + FP)\n",
        "    TPR = (TP * 1.0) / (TP + FN)\n",
        "    TNR = (FP * 1.0) / (TN + FP)\n",
        "    ACC = (TP + TN) * 1.0 / (TP + TN + FP + FN)\n",
        "    F1 = 2.0 * PPV * TPR / (PPV + TPR)\n",
        "    print(\"%s\\t%.5f\\t%.5f\\t%.5f\\t%.5f\\t%.5f\" %\n",
        "          (clf_name, PPV, TPR, TNR, ACC, F1))\n",
        "def process_raw_data(normal_data, anomalous_data):\n",
        "    # create dict\n",
        "    char_dict = {}\n",
        "    char_smpl = ' '.join(anomalous_data)\n",
        "    char_smpl = sorted(list(set(char_smpl)))\n",
        "    for idx, ch in enumerate(char_smpl):\n",
        "        char_dict[ch] = idx\n",
        "    # convert\n",
        "    normal_data = [[char_dict[el] for el in line] for line in normal_data]\n",
        "    anomalous_data = [[char_dict[el] for el in line] for line in anomalous_data]\n",
        "    # merge data and create target data\n",
        "    data = normal_data + anomalous_data\n",
        "    # train_target = np.ones(len(normal_data)).tolist() + np.zeros(len(anomalous_data)).tolist()\n",
        "    target = [1]*len(normal_data) + [0]*len(anomalous_data)\n",
        "    print('Good requests:', len(normal_data))\n",
        "    print('Bad requests:', len(anomalous_data))\n",
        "    print('Total requests:', len(target))\n",
        "    # set max len element of data\n",
        "    for i in range(len(data)):\n",
        "        if (len(data[i]) < 300):\n",
        "            data[i] = data[i] + [0]*(300 - len(data[i]))\n",
        "        else:\n",
        "            data[i] = data[i][:300]\n",
        "    # split\n",
        "    train_data, test_data, y_train, y_test = train_test_split(data, target, test_size = 0.2, random_state = 21)\n",
        "    # one-hot vector\n",
        "    X_train = np.asarray([to_categorical(i, num_classes=63) for i in train_data])\n",
        "    X_test = np.asarray([to_categorical(i, num_classes=63) for i in test_data])\n",
        "    # print\n",
        "    print(\"Requests for Train: \", len(y_train))\n",
        "    print(\"Requests for Test: \", len(y_test))\n",
        "    print(\"Split Train:Test = 8:2\")\n",
        "    return X_train, X_test, y_train, y_test"
      ],
      "execution_count": 0,
      "outputs": []
    },
    {
      "cell_type": "code",
      "metadata": {
        "id": "IJCBfNV91ZFA",
        "colab_type": "code",
        "colab": {}
      },
      "source": [
        "normal_data = loadData('normalRequestTraining.txt')\n",
        "anomalous_data = loadData('anomalousRequestTest.txt')"
      ],
      "execution_count": 0,
      "outputs": []
    },
    {
      "cell_type": "code",
      "metadata": {
        "id": "SHtrAQ7Z1ZFE",
        "colab_type": "code",
        "outputId": "447cb90b-076a-44a7-ad14-a07501970714",
        "colab": {
          "base_uri": "https://localhost:8080/",
          "height": 119
        }
      },
      "source": [
        "X_train, X_test, y_train, y_test = process_raw_data(normal_data, anomalous_data)"
      ],
      "execution_count": 4,
      "outputs": [
        {
          "output_type": "stream",
          "text": [
            "Good requests: 36000\n",
            "Bad requests: 25065\n",
            "Total requests: 61065\n",
            "Requests for Train:  48852\n",
            "Requests for Test:  12213\n",
            "Split Train:Test = 8:2\n"
          ],
          "name": "stdout"
        }
      ]
    },
    {
      "cell_type": "code",
      "metadata": {
        "id": "tq4Geq_a1ZFJ",
        "colab_type": "code",
        "outputId": "838996e8-318f-4bad-dde8-fbaa9f696441",
        "colab": {
          "base_uri": "https://localhost:8080/",
          "height": 34
        }
      },
      "source": [
        "shape = X_train.shape\n",
        "print(shape)"
      ],
      "execution_count": 5,
      "outputs": [
        {
          "output_type": "stream",
          "text": [
            "(48852, 300, 63)\n"
          ],
          "name": "stdout"
        }
      ]
    },
    {
      "cell_type": "code",
      "metadata": {
        "id": "afYzW_D-5yx7",
        "colab_type": "code",
        "outputId": "5c6a5da2-915a-4224-fe20-2b0bdb56d99f",
        "colab": {
          "base_uri": "https://localhost:8080/",
          "height": 1006
        }
      },
      "source": [
        "model = Sequential()\n",
        "model.add(Reshape((shape[1], shape[2], 1), input_shape=(shape[1], shape[2])))\n",
        "\n",
        "model.add(Conv2D(32, (3, 63), activation='relu'))\n",
        "model.add(Conv2D(32, (3, 1), activation='relu'))\n",
        "model.add(Conv2D(32, (3, 1), activation='relu'))\n",
        "\n",
        "model.add(Dropout(0.25))\n",
        "model.add(GlobalMaxPooling2D())\n",
        "\n",
        "model.add(Dense(64))\n",
        "model.add(Dense(1, activation='sigmoid'))\n",
        "\n",
        "model.summary()\n",
        "model.compile(loss='binary_crossentropy',\n",
        "              optimizer='adam',\n",
        "              metrics=['acc'])\n",
        "\n",
        "model.fit(X_train, y_train, batch_size=128, epochs=10, validation_split=0.2)\n",
        "\n",
        "y_pred = model.predict_classes(X_test)\n",
        "print_result(y_pred, y_test, 'CNN Conv2d: ')"
      ],
      "execution_count": 6,
      "outputs": [
        {
          "output_type": "stream",
          "text": [
            "WARNING:tensorflow:From /usr/local/lib/python3.6/dist-packages/tensorflow/python/framework/op_def_library.py:263: colocate_with (from tensorflow.python.framework.ops) is deprecated and will be removed in a future version.\n",
            "Instructions for updating:\n",
            "Colocations handled automatically by placer.\n",
            "WARNING:tensorflow:From /usr/local/lib/python3.6/dist-packages/keras/backend/tensorflow_backend.py:3445: calling dropout (from tensorflow.python.ops.nn_ops) with keep_prob is deprecated and will be removed in a future version.\n",
            "Instructions for updating:\n",
            "Please use `rate` instead of `keep_prob`. Rate should be set to `rate = 1 - keep_prob`.\n",
            "_________________________________________________________________\n",
            "Layer (type)                 Output Shape              Param #   \n",
            "=================================================================\n",
            "reshape_1 (Reshape)          (None, 300, 63, 1)        0         \n",
            "_________________________________________________________________\n",
            "conv2d_1 (Conv2D)            (None, 298, 1, 32)        6080      \n",
            "_________________________________________________________________\n",
            "conv2d_2 (Conv2D)            (None, 296, 1, 32)        3104      \n",
            "_________________________________________________________________\n",
            "conv2d_3 (Conv2D)            (None, 294, 1, 32)        3104      \n",
            "_________________________________________________________________\n",
            "dropout_1 (Dropout)          (None, 294, 1, 32)        0         \n",
            "_________________________________________________________________\n",
            "global_max_pooling2d_1 (Glob (None, 32)                0         \n",
            "_________________________________________________________________\n",
            "dense_1 (Dense)              (None, 64)                2112      \n",
            "_________________________________________________________________\n",
            "dense_2 (Dense)              (None, 1)                 65        \n",
            "=================================================================\n",
            "Total params: 14,465\n",
            "Trainable params: 14,465\n",
            "Non-trainable params: 0\n",
            "_________________________________________________________________\n",
            "WARNING:tensorflow:From /usr/local/lib/python3.6/dist-packages/tensorflow/python/ops/math_ops.py:3066: to_int32 (from tensorflow.python.ops.math_ops) is deprecated and will be removed in a future version.\n",
            "Instructions for updating:\n",
            "Use tf.cast instead.\n",
            "WARNING:tensorflow:From /usr/local/lib/python3.6/dist-packages/tensorflow/python/ops/math_grad.py:102: div (from tensorflow.python.ops.math_ops) is deprecated and will be removed in a future version.\n",
            "Instructions for updating:\n",
            "Deprecated in favor of operator or tf.math.divide.\n",
            "Train on 39081 samples, validate on 9771 samples\n",
            "Epoch 1/10\n",
            "39081/39081 [==============================] - 10s 258us/step - loss: 0.2708 - acc: 0.8566 - val_loss: 0.1096 - val_acc: 0.9624\n",
            "Epoch 2/10\n",
            "39081/39081 [==============================] - 5s 136us/step - loss: 0.0958 - acc: 0.9630 - val_loss: 0.0838 - val_acc: 0.9693\n",
            "Epoch 3/10\n",
            "39081/39081 [==============================] - 5s 135us/step - loss: 0.0813 - acc: 0.9707 - val_loss: 0.0717 - val_acc: 0.9757\n",
            "Epoch 4/10\n",
            "39081/39081 [==============================] - 5s 135us/step - loss: 0.0704 - acc: 0.9753 - val_loss: 0.0732 - val_acc: 0.9718\n",
            "Epoch 5/10\n",
            "39081/39081 [==============================] - 5s 135us/step - loss: 0.0638 - acc: 0.9777 - val_loss: 0.0643 - val_acc: 0.9782\n",
            "Epoch 6/10\n",
            "39081/39081 [==============================] - 5s 134us/step - loss: 0.0590 - acc: 0.9805 - val_loss: 0.0610 - val_acc: 0.9790\n",
            "Epoch 7/10\n",
            "39081/39081 [==============================] - 5s 134us/step - loss: 0.0484 - acc: 0.9815 - val_loss: 0.0441 - val_acc: 0.9827\n",
            "Epoch 8/10\n",
            "39081/39081 [==============================] - 5s 134us/step - loss: 0.0353 - acc: 0.9868 - val_loss: 0.0432 - val_acc: 0.9820\n",
            "Epoch 9/10\n",
            "39081/39081 [==============================] - 5s 135us/step - loss: 0.0251 - acc: 0.9912 - val_loss: 0.0316 - val_acc: 0.9890\n",
            "Epoch 10/10\n",
            "39081/39081 [==============================] - 5s 136us/step - loss: 0.0250 - acc: 0.9909 - val_loss: 0.0348 - val_acc: 0.9893\n",
            "CNN Conv2d: \t0.98599\t0.98716\t0.00993\t0.98886\t0.98657\n"
          ],
          "name": "stdout"
        }
      ]
    },
    {
      "cell_type": "code",
      "metadata": {
        "id": "urS4MWut6MCr",
        "colab_type": "code",
        "outputId": "6de023b8-2d4f-49dd-cf62-d77b0feabc93",
        "colab": {
          "base_uri": "https://localhost:8080/",
          "height": 850
        }
      },
      "source": [
        "model2 = Sequential()\n",
        "model2.add(Reshape((shape[1], shape[2], 1), input_shape=(shape[1], shape[2])))\n",
        "\n",
        "model2.add(Conv2D(32, (3, 63), activation='relu'))\n",
        "model2.add(Conv2D(32, (3, 1), activation='relu'))\n",
        "model2.add(Conv2D(32, (3, 1), activation='relu'))\n",
        "model2.add(Conv2D(32, (3, 1), activation='relu'))\n",
        "model2.add(Conv2D(32, (3, 1), activation='relu'))\n",
        "\n",
        "model2.add(Dropout(0.25))\n",
        "model2.add(GlobalMaxPooling2D())\n",
        "\n",
        "model2.add(Dense(64))\n",
        "model2.add(Dense(1, activation='sigmoid'))\n",
        "\n",
        "model2.summary()\n",
        "model2.compile(loss='binary_crossentropy',\n",
        "               optimizer='adam',\n",
        "               metrics=['acc'])\n",
        "\n",
        "model2.fit(X_train, y_train, batch_size=128, epochs=10, validation_split=0.2)\n",
        "\n",
        "y_pred2 = model2.predict_classes(X_test)\n",
        "print_result(y_pred2, y_test, 'CNN Conv2d: ')"
      ],
      "execution_count": 7,
      "outputs": [
        {
          "output_type": "stream",
          "text": [
            "_________________________________________________________________\n",
            "Layer (type)                 Output Shape              Param #   \n",
            "=================================================================\n",
            "reshape_2 (Reshape)          (None, 300, 63, 1)        0         \n",
            "_________________________________________________________________\n",
            "conv2d_4 (Conv2D)            (None, 298, 1, 32)        6080      \n",
            "_________________________________________________________________\n",
            "conv2d_5 (Conv2D)            (None, 296, 1, 32)        3104      \n",
            "_________________________________________________________________\n",
            "conv2d_6 (Conv2D)            (None, 294, 1, 32)        3104      \n",
            "_________________________________________________________________\n",
            "conv2d_7 (Conv2D)            (None, 292, 1, 32)        3104      \n",
            "_________________________________________________________________\n",
            "conv2d_8 (Conv2D)            (None, 290, 1, 32)        3104      \n",
            "_________________________________________________________________\n",
            "dropout_2 (Dropout)          (None, 290, 1, 32)        0         \n",
            "_________________________________________________________________\n",
            "global_max_pooling2d_2 (Glob (None, 32)                0         \n",
            "_________________________________________________________________\n",
            "dense_3 (Dense)              (None, 64)                2112      \n",
            "_________________________________________________________________\n",
            "dense_4 (Dense)              (None, 1)                 65        \n",
            "=================================================================\n",
            "Total params: 20,673\n",
            "Trainable params: 20,673\n",
            "Non-trainable params: 0\n",
            "_________________________________________________________________\n",
            "Train on 39081 samples, validate on 9771 samples\n",
            "Epoch 1/10\n",
            "39081/39081 [==============================] - 7s 176us/step - loss: 0.2600 - acc: 0.8653 - val_loss: 0.1005 - val_acc: 0.9635\n",
            "Epoch 2/10\n",
            "39081/39081 [==============================] - 6s 154us/step - loss: 0.0895 - acc: 0.9663 - val_loss: 0.0778 - val_acc: 0.9710\n",
            "Epoch 3/10\n",
            "39081/39081 [==============================] - 6s 154us/step - loss: 0.0745 - acc: 0.9740 - val_loss: 0.0699 - val_acc: 0.9767\n",
            "Epoch 4/10\n",
            "39081/39081 [==============================] - 6s 156us/step - loss: 0.0647 - acc: 0.9793 - val_loss: 0.0604 - val_acc: 0.9813\n",
            "Epoch 5/10\n",
            "39081/39081 [==============================] - 7s 170us/step - loss: 0.0574 - acc: 0.9823 - val_loss: 0.0653 - val_acc: 0.9800\n",
            "Epoch 6/10\n",
            "39081/39081 [==============================] - 6s 159us/step - loss: 0.0553 - acc: 0.9840 - val_loss: 0.0646 - val_acc: 0.9788\n",
            "Epoch 7/10\n",
            "39081/39081 [==============================] - 6s 159us/step - loss: 0.0480 - acc: 0.9866 - val_loss: 0.0553 - val_acc: 0.9830\n",
            "Epoch 8/10\n",
            "39081/39081 [==============================] - 6s 161us/step - loss: 0.0470 - acc: 0.9871 - val_loss: 0.0546 - val_acc: 0.9830\n",
            "Epoch 9/10\n",
            "39081/39081 [==============================] - 7s 169us/step - loss: 0.0445 - acc: 0.9880 - val_loss: 0.0571 - val_acc: 0.9820\n",
            "Epoch 10/10\n",
            "39081/39081 [==============================] - 6s 162us/step - loss: 0.0429 - acc: 0.9884 - val_loss: 0.0532 - val_acc: 0.9844\n",
            "CNN Conv2d: \t0.96606\t0.99391\t0.02360\t0.98346\t0.97979\n"
          ],
          "name": "stdout"
        }
      ]
    },
    {
      "cell_type": "code",
      "metadata": {
        "id": "z5P2l1WF6lBZ",
        "colab_type": "code",
        "outputId": "710fc37e-f097-44f2-d2da-025386301fac",
        "colab": {
          "base_uri": "https://localhost:8080/",
          "height": 782
        }
      },
      "source": [
        "model3 = Sequential()\n",
        "\n",
        "model3.add(Reshape((shape[1], shape[2], 1), input_shape=(shape[1], shape[2])))\n",
        "\n",
        "model3.add(Conv2D(128, (3, 63), activation='relu'))\n",
        "model3.add(Conv2D(128, (3, 1), activation='relu'))\n",
        "model3.add(Conv2D(128, (3, 1), activation='relu'))\n",
        "\n",
        "model3.add(Dropout(0.25))\n",
        "model3.add(GlobalMaxPooling2D())\n",
        "\n",
        "model3.add(Dense(128))\n",
        "model3.add(Dense(1, activation='sigmoid'))\n",
        "\n",
        "model3.summary()\n",
        "model3.compile(loss='binary_crossentropy',\n",
        "              optimizer='adam',\n",
        "              metrics=['acc'])\n",
        "\n",
        "model3.fit(X_train, y_train, batch_size=128, epochs=10, validation_split=0.2)\n",
        "\n",
        "y_pred3 = model3.predict_classes(X_test)\n",
        "print_result(y_pred3, y_test, 'CNN Conv2d: ')"
      ],
      "execution_count": 8,
      "outputs": [
        {
          "output_type": "stream",
          "text": [
            "_________________________________________________________________\n",
            "Layer (type)                 Output Shape              Param #   \n",
            "=================================================================\n",
            "reshape_3 (Reshape)          (None, 300, 63, 1)        0         \n",
            "_________________________________________________________________\n",
            "conv2d_9 (Conv2D)            (None, 298, 1, 128)       24320     \n",
            "_________________________________________________________________\n",
            "conv2d_10 (Conv2D)           (None, 296, 1, 128)       49280     \n",
            "_________________________________________________________________\n",
            "conv2d_11 (Conv2D)           (None, 294, 1, 128)       49280     \n",
            "_________________________________________________________________\n",
            "dropout_3 (Dropout)          (None, 294, 1, 128)       0         \n",
            "_________________________________________________________________\n",
            "global_max_pooling2d_3 (Glob (None, 128)               0         \n",
            "_________________________________________________________________\n",
            "dense_5 (Dense)              (None, 128)               16512     \n",
            "_________________________________________________________________\n",
            "dense_6 (Dense)              (None, 1)                 129       \n",
            "=================================================================\n",
            "Total params: 139,521\n",
            "Trainable params: 139,521\n",
            "Non-trainable params: 0\n",
            "_________________________________________________________________\n",
            "Train on 39081 samples, validate on 9771 samples\n",
            "Epoch 1/10\n",
            "39081/39081 [==============================] - 13s 338us/step - loss: 0.1757 - acc: 0.9170 - val_loss: 0.0851 - val_acc: 0.9711\n",
            "Epoch 2/10\n",
            "39081/39081 [==============================] - 12s 313us/step - loss: 0.0637 - acc: 0.9781 - val_loss: 0.0500 - val_acc: 0.9797\n",
            "Epoch 3/10\n",
            "39081/39081 [==============================] - 12s 312us/step - loss: 0.0345 - acc: 0.9877 - val_loss: 0.0328 - val_acc: 0.9884\n",
            "Epoch 4/10\n",
            "39081/39081 [==============================] - 12s 309us/step - loss: 0.0268 - acc: 0.9903 - val_loss: 0.0313 - val_acc: 0.9900\n",
            "Epoch 5/10\n",
            "39081/39081 [==============================] - 12s 310us/step - loss: 0.0206 - acc: 0.9924 - val_loss: 0.0285 - val_acc: 0.9906\n",
            "Epoch 6/10\n",
            "39081/39081 [==============================] - 12s 309us/step - loss: 0.0177 - acc: 0.9937 - val_loss: 0.0249 - val_acc: 0.9918\n",
            "Epoch 7/10\n",
            "39081/39081 [==============================] - 12s 311us/step - loss: 0.0125 - acc: 0.9956 - val_loss: 0.0239 - val_acc: 0.9923\n",
            "Epoch 8/10\n",
            "39081/39081 [==============================] - 12s 308us/step - loss: 0.0114 - acc: 0.9960 - val_loss: 0.0284 - val_acc: 0.9911\n",
            "Epoch 9/10\n",
            "39081/39081 [==============================] - 12s 309us/step - loss: 0.0089 - acc: 0.9971 - val_loss: 0.0292 - val_acc: 0.9929\n",
            "Epoch 10/10\n",
            "39081/39081 [==============================] - 12s 309us/step - loss: 0.0097 - acc: 0.9967 - val_loss: 0.0481 - val_acc: 0.9886\n",
            "CNN Conv2d: \t0.97277\t0.99919\t0.01896\t0.98837\t0.98580\n"
          ],
          "name": "stdout"
        }
      ]
    },
    {
      "cell_type": "code",
      "metadata": {
        "id": "hvEAOPfH35NO",
        "colab_type": "code",
        "outputId": "8637310c-81f6-4912-e630-8ae413e10e20",
        "colab": {
          "base_uri": "https://localhost:8080/",
          "height": 850
        }
      },
      "source": [
        "model4 = Sequential()\n",
        "\n",
        "model4.add(Reshape((shape[1], shape[2], 1), input_shape=(shape[1], shape[2])))\n",
        "\n",
        "model4.add(Conv2D(128, (3, 63), activation='relu'))\n",
        "model4.add(Conv2D(128, (3, 1), activation='relu'))\n",
        "model4.add(Conv2D(128, (3, 1), activation='relu'))\n",
        "model4.add(Conv2D(128, (3, 1), activation='relu'))\n",
        "model4.add(Conv2D(128, (3, 1), activation='relu'))\n",
        "\n",
        "model4.add(Dropout(0.25))\n",
        "model4.add(GlobalMaxPooling2D())\n",
        "\n",
        "model4.add(Dense(128))\n",
        "model4.add(Dense(1, activation='sigmoid'))\n",
        "\n",
        "model4.summary()\n",
        "model4.compile(loss='binary_crossentropy',\n",
        "              optimizer='adam',\n",
        "              metrics=['acc'])\n",
        "\n",
        "model4.fit(X_train, y_train, batch_size=128, epochs=10, validation_split=0.2)\n",
        "\n",
        "y_pred4 = model4.predict_classes(X_test)\n",
        "print_result(y_pred4, y_test, 'CNN Conv2d: ')"
      ],
      "execution_count": 9,
      "outputs": [
        {
          "output_type": "stream",
          "text": [
            "_________________________________________________________________\n",
            "Layer (type)                 Output Shape              Param #   \n",
            "=================================================================\n",
            "reshape_4 (Reshape)          (None, 300, 63, 1)        0         \n",
            "_________________________________________________________________\n",
            "conv2d_12 (Conv2D)           (None, 298, 1, 128)       24320     \n",
            "_________________________________________________________________\n",
            "conv2d_13 (Conv2D)           (None, 296, 1, 128)       49280     \n",
            "_________________________________________________________________\n",
            "conv2d_14 (Conv2D)           (None, 294, 1, 128)       49280     \n",
            "_________________________________________________________________\n",
            "conv2d_15 (Conv2D)           (None, 292, 1, 128)       49280     \n",
            "_________________________________________________________________\n",
            "conv2d_16 (Conv2D)           (None, 290, 1, 128)       49280     \n",
            "_________________________________________________________________\n",
            "dropout_4 (Dropout)          (None, 290, 1, 128)       0         \n",
            "_________________________________________________________________\n",
            "global_max_pooling2d_4 (Glob (None, 128)               0         \n",
            "_________________________________________________________________\n",
            "dense_7 (Dense)              (None, 128)               16512     \n",
            "_________________________________________________________________\n",
            "dense_8 (Dense)              (None, 1)                 129       \n",
            "=================================================================\n",
            "Total params: 238,081\n",
            "Trainable params: 238,081\n",
            "Non-trainable params: 0\n",
            "_________________________________________________________________\n",
            "Train on 39081 samples, validate on 9771 samples\n",
            "Epoch 1/10\n",
            "39081/39081 [==============================] - 19s 495us/step - loss: 0.2036 - acc: 0.9022 - val_loss: 0.1194 - val_acc: 0.9506\n",
            "Epoch 2/10\n",
            "39081/39081 [==============================] - 18s 472us/step - loss: 0.0759 - acc: 0.9738 - val_loss: 0.0666 - val_acc: 0.9804\n",
            "Epoch 3/10\n",
            "39081/39081 [==============================] - 18s 472us/step - loss: 0.0612 - acc: 0.9815 - val_loss: 0.0594 - val_acc: 0.9812\n",
            "Epoch 4/10\n",
            "39081/39081 [==============================] - 19s 482us/step - loss: 0.0550 - acc: 0.9834 - val_loss: 0.0716 - val_acc: 0.9786\n",
            "Epoch 5/10\n",
            "39081/39081 [==============================] - 18s 471us/step - loss: 0.0524 - acc: 0.9847 - val_loss: 0.0670 - val_acc: 0.9810\n",
            "Epoch 6/10\n",
            "39081/39081 [==============================] - 19s 485us/step - loss: 0.0494 - acc: 0.9857 - val_loss: 0.0649 - val_acc: 0.9826\n",
            "Epoch 7/10\n",
            "39081/39081 [==============================] - 19s 484us/step - loss: 0.0423 - acc: 0.9891 - val_loss: 0.0599 - val_acc: 0.9823\n",
            "Epoch 8/10\n",
            "39081/39081 [==============================] - 19s 487us/step - loss: 0.0412 - acc: 0.9891 - val_loss: 0.0521 - val_acc: 0.9868\n",
            "Epoch 9/10\n",
            "39081/39081 [==============================] - 19s 486us/step - loss: 0.0402 - acc: 0.9895 - val_loss: 0.0521 - val_acc: 0.9856\n",
            "Epoch 10/10\n",
            "39081/39081 [==============================] - 19s 487us/step - loss: 0.0363 - acc: 0.9907 - val_loss: 0.0539 - val_acc: 0.9852\n",
            "CNN Conv2d: \t0.97395\t0.99037\t0.01826\t0.98526\t0.98209\n"
          ],
          "name": "stdout"
        }
      ]
    },
    {
      "cell_type": "code",
      "metadata": {
        "id": "SEoroHzXGtwF",
        "colab_type": "code",
        "colab": {
          "base_uri": "https://localhost:8080/",
          "height": 646
        },
        "outputId": "d118ed80-5082-49d8-c23c-419e34fc98da"
      },
      "source": [
        "model5 = Sequential()\n",
        "\n",
        "model5.add(LSTM(64, input_shape=(shape[1], shape[2])))\n",
        "# model5.add(LSTM(32, return_sequences=True))\n",
        "# model5.add(LSTM(32))\n",
        "\n",
        "model5.add(Dropout(0.25))\n",
        "model5.add(Dense(32, activation='relu'))\n",
        "model5.add(Dense(1, activation='sigmoid'))\n",
        "\n",
        "model5.summary()\n",
        "model5.compile(loss='binary_crossentropy',\n",
        "             optimizer='adam',\n",
        "             metrics=['accuracy'])\n",
        "\n",
        "model5.fit(X_train, y_train, batch_size=256, epochs=10, validation_split=0.2)\n",
        "\n",
        "y_pred5 = model5.predict_classes(X_test)\n",
        "print_result(y_pred5, y_test, 'RNN LSTM: ')"
      ],
      "execution_count": 17,
      "outputs": [
        {
          "output_type": "stream",
          "text": [
            "_________________________________________________________________\n",
            "Layer (type)                 Output Shape              Param #   \n",
            "=================================================================\n",
            "lstm_10 (LSTM)               (None, 64)                32768     \n",
            "_________________________________________________________________\n",
            "dropout_9 (Dropout)          (None, 64)                0         \n",
            "_________________________________________________________________\n",
            "dense_17 (Dense)             (None, 32)                2080      \n",
            "_________________________________________________________________\n",
            "dense_18 (Dense)             (None, 1)                 33        \n",
            "=================================================================\n",
            "Total params: 34,881\n",
            "Trainable params: 34,881\n",
            "Non-trainable params: 0\n",
            "_________________________________________________________________\n",
            "Train on 39081 samples, validate on 9771 samples\n",
            "Epoch 1/10\n",
            "39081/39081 [==============================] - 96s 2ms/step - loss: 0.6642 - acc: 0.6171 - val_loss: 0.6579 - val_acc: 0.6204\n",
            "Epoch 2/10\n",
            "39081/39081 [==============================] - 93s 2ms/step - loss: 0.6597 - acc: 0.6194 - val_loss: 0.6563 - val_acc: 0.6206\n",
            "Epoch 3/10\n",
            "39081/39081 [==============================] - 94s 2ms/step - loss: 0.6576 - acc: 0.6198 - val_loss: 0.6548 - val_acc: 0.6209\n",
            "Epoch 4/10\n",
            "39081/39081 [==============================] - 92s 2ms/step - loss: 0.6567 - acc: 0.6199 - val_loss: 0.6550 - val_acc: 0.6215\n",
            "Epoch 5/10\n",
            "39081/39081 [==============================] - 92s 2ms/step - loss: 0.6565 - acc: 0.6203 - val_loss: 0.6543 - val_acc: 0.6220\n",
            "Epoch 6/10\n",
            "39081/39081 [==============================] - 91s 2ms/step - loss: 0.6556 - acc: 0.6206 - val_loss: 0.6548 - val_acc: 0.6212\n",
            "Epoch 7/10\n",
            "39081/39081 [==============================] - 90s 2ms/step - loss: 0.6565 - acc: 0.6194 - val_loss: 0.6555 - val_acc: 0.6215\n",
            "Epoch 8/10\n",
            "39081/39081 [==============================] - 91s 2ms/step - loss: 0.6557 - acc: 0.6206 - val_loss: 0.6541 - val_acc: 0.6236\n",
            "Epoch 9/10\n",
            "39081/39081 [==============================] - 91s 2ms/step - loss: 0.6547 - acc: 0.6216 - val_loss: 0.6554 - val_acc: 0.6221\n",
            "Epoch 10/10\n",
            "39081/39081 [==============================] - 91s 2ms/step - loss: 0.6548 - acc: 0.6210 - val_loss: 0.6541 - val_acc: 0.6231\n",
            "RNN LSTM: \t0.13733\t0.66412\t0.39158\t0.61320\t0.22760\n"
          ],
          "name": "stdout"
        }
      ]
    },
    {
      "cell_type": "code",
      "metadata": {
        "id": "m9t9zK-SLexB",
        "colab_type": "code",
        "colab": {}
      },
      "source": [
        ""
      ],
      "execution_count": 0,
      "outputs": []
    }
  ]
}