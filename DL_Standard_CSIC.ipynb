{
 "cells": [
  {
   "cell_type": "code",
   "execution_count": 1,
   "metadata": {
    "colab": {
     "base_uri": "https://localhost:8080/",
     "height": 34
    },
    "colab_type": "code",
    "id": "02YQOrY5Ukbr",
    "outputId": "8b3d36e8-5d0b-47b2-de0c-970f2a3f23ca"
   },
   "outputs": [
    {
     "name": "stderr",
     "output_type": "stream",
     "text": [
      "Using TensorFlow backend.\n"
     ]
    }
   ],
   "source": [
    "from sklearn.feature_extraction.text import TfidfVectorizer\n",
    "from sklearn.model_selection import train_test_split\n",
    "from keras.models import Sequential\n",
    "from sklearn.metrics import accuracy_score, f1_score\n",
    "from keras.layers import Dense, Dropout, Activation, Reshape\n",
    "import warnings\n",
    "warnings.filterwarnings(\"ignore\")"
   ]
  },
  {
   "cell_type": "code",
   "execution_count": 0,
   "metadata": {
    "colab": {},
    "colab_type": "code",
    "id": "W76rII38Ukbw"
   },
   "outputs": [],
   "source": [
    "def loadData(file):\n",
    "    with open(file, 'r', encoding=\"utf8\") as f:\n",
    "        data = f.readlines()\n",
    "    result = []\n",
    "    for d in data:\n",
    "        d = d.strip()\n",
    "        if (len(d) > 0):\n",
    "            result.append(d)\n",
    "    return result\n",
    "def print_result(y_pred, y_test, clf_name):\n",
    "    ACC = accuracy_score(y_pred, y_test)\n",
    "    F1 = f1_score(y_pred, y_test, average='macro')\n",
    "    print(\"%s\\t(accuracy, f1) = (%.5f, %.5f)\"%(clf_name, ACC, F1))"
   ]
  },
  {
   "cell_type": "code",
   "execution_count": 0,
   "metadata": {
    "colab": {},
    "colab_type": "code",
    "id": "6HdGEJw2Ukb4"
   },
   "outputs": [],
   "source": [
    "bad_requests = loadData('anomalousRequest.txt')\n",
    "good_requests = loadData('normalRequest.txt')"
   ]
  },
  {
   "cell_type": "code",
   "execution_count": 0,
   "metadata": {
    "colab": {},
    "colab_type": "code",
    "id": "iTlvl5b6Ukb7"
   },
   "outputs": [],
   "source": [
    "all_requests = bad_requests + good_requests\n",
    "yBad = [1] * len(bad_requests)\n",
    "yGood = [0] * len(good_requests)\n",
    "y = yBad + yGood"
   ]
  },
  {
   "cell_type": "code",
   "execution_count": 5,
   "metadata": {
    "colab": {
     "base_uri": "https://localhost:8080/",
     "height": 68
    },
    "colab_type": "code",
    "id": "Z4NZG1yfUkb-",
    "outputId": "803175b0-dccf-44f6-a610-0b8ef005ff8f"
   },
   "outputs": [
    {
     "name": "stdout",
     "output_type": "stream",
     "text": [
      "Total requests :  61065\n",
      "Bad requests:  25065\n",
      "Good requests:  36000\n"
     ]
    }
   ],
   "source": [
    "print(\"Total requests : \", len(all_requests))\n",
    "print(\"Bad requests: \", len(bad_requests))\n",
    "print(\"Good requests: \", len(good_requests))"
   ]
  },
  {
   "cell_type": "code",
   "execution_count": 0,
   "metadata": {
    "colab": {},
    "colab_type": "code",
    "id": "XpztVFesUkcH"
   },
   "outputs": [],
   "source": [
    "vectorizer = TfidfVectorizer(min_df=0.0, analyzer=\"char\", sublinear_tf=True, ngram_range=(3, 3))\n",
    "X = vectorizer.fit_transform(all_requests)"
   ]
  },
  {
   "cell_type": "code",
   "execution_count": 0,
   "metadata": {
    "colab": {},
    "colab_type": "code",
    "id": "4aa-oZVyUkcK"
   },
   "outputs": [],
   "source": [
    "X_train, X_test, y_train, y_test = train_test_split(X, y, test_size = 0.2, random_state = 22)\n",
    "X_train, X_val, y_train, y_val = train_test_split(X_train, y_train, test_size = 0.25, random_state = 11)"
   ]
  },
  {
   "cell_type": "code",
   "execution_count": 8,
   "metadata": {
    "colab": {
     "base_uri": "https://localhost:8080/",
     "height": 102
    },
    "colab_type": "code",
    "id": "ybWlJnRCUkcN",
    "outputId": "8f78ced1-e11d-4c1c-8c0e-9904fb8795bb"
   },
   "outputs": [
    {
     "name": "stdout",
     "output_type": "stream",
     "text": [
      "Requests for Train data:  36639\n",
      "Requests for Validation data:  12213\n",
      "Requests for Test data:  12213\n",
      "Use Trigram (n=3). Split Train:Validation:Test = 6:2:2\n",
      "\n"
     ]
    }
   ],
   "source": [
    "print(\"Requests for Train data: \", len(y_train))\n",
    "print(\"Requests for Validation data: \", len(y_val))\n",
    "print(\"Requests for Test data: \", len(y_test))\n",
    "print(\"Use Trigram (n=3). Split Train:Validation:Test = 6:2:2\\n\")"
   ]
  },
  {
   "cell_type": "code",
   "execution_count": 0,
   "metadata": {
    "colab": {},
    "colab_type": "code",
    "id": "jnFWNLDQUkcR"
   },
   "outputs": [],
   "source": [
    "shape = X.shape"
   ]
  },
  {
   "cell_type": "markdown",
   "metadata": {
    "colab_type": "text",
    "id": "Nv3CQpAejE1J"
   },
   "source": [
    "## Model cơ bản"
   ]
  },
  {
   "cell_type": "code",
   "execution_count": 10,
   "metadata": {
    "colab": {
     "base_uri": "https://localhost:8080/",
     "height": 785
    },
    "colab_type": "code",
    "id": "g_pMUPEsUkcY",
    "outputId": "231947f0-ad84-4180-d077-2af9669e0992"
   },
   "outputs": [
    {
     "name": "stdout",
     "output_type": "stream",
     "text": [
      "WARNING:tensorflow:From /usr/local/lib/python3.6/dist-packages/tensorflow/python/framework/op_def_library.py:263: colocate_with (from tensorflow.python.framework.ops) is deprecated and will be removed in a future version.\n",
      "Instructions for updating:\n",
      "Colocations handled automatically by placer.\n",
      "WARNING:tensorflow:From /usr/local/lib/python3.6/dist-packages/keras/backend/tensorflow_backend.py:3445: calling dropout (from tensorflow.python.ops.nn_ops) with keep_prob is deprecated and will be removed in a future version.\n",
      "Instructions for updating:\n",
      "Please use `rate` instead of `keep_prob`. Rate should be set to `rate = 1 - keep_prob`.\n",
      "_________________________________________________________________\n",
      "Layer (type)                 Output Shape              Param #   \n",
      "=================================================================\n",
      "dense_1 (Dense)              (None, 32)                923136    \n",
      "_________________________________________________________________\n",
      "dropout_1 (Dropout)          (None, 32)                0         \n",
      "_________________________________________________________________\n",
      "dense_2 (Dense)              (None, 1)                 33        \n",
      "=================================================================\n",
      "Total params: 923,169\n",
      "Trainable params: 923,169\n",
      "Non-trainable params: 0\n",
      "_________________________________________________________________\n",
      "WARNING:tensorflow:From /usr/local/lib/python3.6/dist-packages/tensorflow/python/ops/math_ops.py:3066: to_int32 (from tensorflow.python.ops.math_ops) is deprecated and will be removed in a future version.\n",
      "Instructions for updating:\n",
      "Use tf.cast instead.\n",
      "Train on 36639 samples, validate on 12213 samples\n",
      "Epoch 1/10\n",
      "36639/36639 [==============================] - 10s 283us/step - loss: 0.2269 - acc: 0.9193 - val_loss: 0.0858 - val_acc: 0.9820\n",
      "Epoch 2/10\n",
      "36639/36639 [==============================] - 9s 248us/step - loss: 0.0459 - acc: 0.9912 - val_loss: 0.0396 - val_acc: 0.9872\n",
      "Epoch 3/10\n",
      "36639/36639 [==============================] - 9s 249us/step - loss: 0.0170 - acc: 0.9968 - val_loss: 0.0264 - val_acc: 0.9906\n",
      "Epoch 4/10\n",
      "36639/36639 [==============================] - 9s 247us/step - loss: 0.0081 - acc: 0.9983 - val_loss: 0.0239 - val_acc: 0.9905\n",
      "Epoch 5/10\n",
      "36639/36639 [==============================] - 9s 249us/step - loss: 0.0044 - acc: 0.9991 - val_loss: 0.0221 - val_acc: 0.9916\n",
      "Epoch 6/10\n",
      "36639/36639 [==============================] - 9s 249us/step - loss: 0.0028 - acc: 0.9994 - val_loss: 0.0209 - val_acc: 0.9925\n",
      "Epoch 7/10\n",
      "36639/36639 [==============================] - 9s 250us/step - loss: 0.0016 - acc: 0.9998 - val_loss: 0.0222 - val_acc: 0.9922\n",
      "Epoch 8/10\n",
      "36639/36639 [==============================] - 9s 253us/step - loss: 8.7836e-04 - acc: 0.9999 - val_loss: 0.0216 - val_acc: 0.9927\n",
      "Epoch 9/10\n",
      "36639/36639 [==============================] - 10s 271us/step - loss: 7.1045e-04 - acc: 0.9999 - val_loss: 0.0243 - val_acc: 0.9929\n",
      "Epoch 10/10\n",
      "36639/36639 [==============================] - 9s 246us/step - loss: 4.8933e-04 - acc: 0.9999 - val_loss: 0.0252 - val_acc: 0.9921\n",
      "Deep learning standard: \t(accuracy, f1) = (0.99214, 0.99189)\n"
     ]
    }
   ],
   "source": [
    "model = Sequential()\n",
    "model.add(Dense(32, input_shape=(shape[1],), activation='relu'))\n",
    "model.add(Dropout(0.2))\n",
    "model.add(Dense(1, activation='sigmoid'))\n",
    "model.summary()\n",
    "\n",
    "model.compile(loss='binary_crossentropy',\n",
    "              optimizer='adam',\n",
    "              metrics=['acc'])\n",
    "model.fit(X_train, y_train, validation_data=(X_val, y_val), batch_size=32, epochs=10)\n",
    "\n",
    "y_pred = model.predict_classes(X_test)\n",
    "print_result(y_pred, y_test, \"Deep learning standard: \")"
   ]
  },
  {
   "cell_type": "markdown",
   "metadata": {
    "colab_type": "text",
    "id": "aRWQl0bKUkcq"
   },
   "source": [
    "## Tăng số lượng tầng Dense\n",
    "Kết quả đạt được thì lại kém hơn so với mạng standard cơ bản\n",
    "### Kết luận: Việc tăng số lượng tầng không đem lại hiệu quả"
   ]
  },
  {
   "cell_type": "code",
   "execution_count": 11,
   "metadata": {
    "colab": {
     "base_uri": "https://localhost:8080/",
     "height": 680
    },
    "colab_type": "code",
    "id": "G2h99g8YUkcs",
    "outputId": "a54b3bc9-91b2-4ef4-8b86-ba0540a94c58"
   },
   "outputs": [
    {
     "name": "stdout",
     "output_type": "stream",
     "text": [
      "_________________________________________________________________\n",
      "Layer (type)                 Output Shape              Param #   \n",
      "=================================================================\n",
      "dense_3 (Dense)              (None, 32)                923136    \n",
      "_________________________________________________________________\n",
      "dense_4 (Dense)              (None, 32)                1056      \n",
      "_________________________________________________________________\n",
      "dense_5 (Dense)              (None, 32)                1056      \n",
      "_________________________________________________________________\n",
      "dropout_2 (Dropout)          (None, 32)                0         \n",
      "_________________________________________________________________\n",
      "dense_6 (Dense)              (None, 1)                 33        \n",
      "=================================================================\n",
      "Total params: 925,281\n",
      "Trainable params: 925,281\n",
      "Non-trainable params: 0\n",
      "_________________________________________________________________\n",
      "Train on 36639 samples, validate on 12213 samples\n",
      "Epoch 1/10\n",
      "36639/36639 [==============================] - 10s 275us/step - loss: 0.1327 - acc: 0.9416 - val_loss: 0.0335 - val_acc: 0.9896\n",
      "Epoch 2/10\n",
      "36639/36639 [==============================] - 10s 267us/step - loss: 0.0110 - acc: 0.9968 - val_loss: 0.0607 - val_acc: 0.9727\n",
      "Epoch 3/10\n",
      "36639/36639 [==============================] - 10s 267us/step - loss: 0.0051 - acc: 0.9982 - val_loss: 0.0529 - val_acc: 0.9881\n",
      "Epoch 4/10\n",
      "36639/36639 [==============================] - 10s 264us/step - loss: 0.0026 - acc: 0.9992 - val_loss: 0.0591 - val_acc: 0.9873\n",
      "Epoch 5/10\n",
      "36639/36639 [==============================] - 10s 269us/step - loss: 0.0033 - acc: 0.9988 - val_loss: 0.0476 - val_acc: 0.9898\n",
      "Epoch 6/10\n",
      "36639/36639 [==============================] - 10s 271us/step - loss: 0.0011 - acc: 0.9997 - val_loss: 0.0561 - val_acc: 0.9901\n",
      "Epoch 7/10\n",
      "36639/36639 [==============================] - 11s 290us/step - loss: 0.0020 - acc: 0.9995 - val_loss: 0.0480 - val_acc: 0.9899\n",
      "Epoch 8/10\n",
      "36639/36639 [==============================] - 10s 267us/step - loss: 0.0030 - acc: 0.9992 - val_loss: 0.0559 - val_acc: 0.9908\n",
      "Epoch 9/10\n",
      "36639/36639 [==============================] - 10s 267us/step - loss: 6.9545e-05 - acc: 1.0000 - val_loss: 0.0542 - val_acc: 0.9912\n",
      "Epoch 10/10\n",
      "36639/36639 [==============================] - 10s 282us/step - loss: 1.1881e-05 - acc: 1.0000 - val_loss: 0.0579 - val_acc: 0.9916\n",
      "Deep learning standard: \t(accuracy, f1) = (0.99116, 0.99087)\n"
     ]
    }
   ],
   "source": [
    "model2 = Sequential()\n",
    "model2.add(Dense(32, input_shape=(shape[1],), activation='relu'))\n",
    "model2.add(Dense(32, activation='relu'))\n",
    "model2.add(Dense(32, activation='relu'))\n",
    "model2.add(Dropout(0.2))\n",
    "model2.add(Dense(1, activation='sigmoid'))\n",
    "model2.summary()\n",
    "\n",
    "model2.compile(loss='binary_crossentropy',\n",
    "               optimizer='adam',\n",
    "               metrics=['acc'])\n",
    "model2.fit(X_train, y_train, validation_data=(X_val, y_val), batch_size=32, epochs=10)\n",
    "\n",
    "y_pred2 = model2.predict_classes(X_test)\n",
    "print_result(y_pred2, y_test, \"Deep learning standard: \")"
   ]
  },
  {
   "cell_type": "markdown",
   "metadata": {
    "colab_type": "text",
    "id": "xl1byL11Ukc3"
   },
   "source": [
    "## Model 3 có độ rộng của tầng Dense tăng lên từ 32 lên 128\n",
    "Nhưng kết quả vẫn kém hơn so với model 1\n",
    "### Kết luận: Việc tăng độ rộng tầng Dense không đem lại hiệu quả"
   ]
  },
  {
   "cell_type": "code",
   "execution_count": 12,
   "metadata": {
    "colab": {
     "base_uri": "https://localhost:8080/",
     "height": 612
    },
    "colab_type": "code",
    "id": "nCA-o-uHUkc6",
    "outputId": "e75b3829-80d6-4429-9906-5ae46c5e75ec"
   },
   "outputs": [
    {
     "name": "stdout",
     "output_type": "stream",
     "text": [
      "_________________________________________________________________\n",
      "Layer (type)                 Output Shape              Param #   \n",
      "=================================================================\n",
      "dense_7 (Dense)              (None, 128)               3692544   \n",
      "_________________________________________________________________\n",
      "dropout_3 (Dropout)          (None, 128)               0         \n",
      "_________________________________________________________________\n",
      "dense_8 (Dense)              (None, 1)                 129       \n",
      "=================================================================\n",
      "Total params: 3,692,673\n",
      "Trainable params: 3,692,673\n",
      "Non-trainable params: 0\n",
      "_________________________________________________________________\n",
      "Train on 36639 samples, validate on 12213 samples\n",
      "Epoch 1/10\n",
      "36639/36639 [==============================] - 12s 317us/step - loss: 0.1622 - acc: 0.9381 - val_loss: 0.0491 - val_acc: 0.9852\n",
      "Epoch 2/10\n",
      "36639/36639 [==============================] - 11s 303us/step - loss: 0.0198 - acc: 0.9955 - val_loss: 0.0239 - val_acc: 0.9918\n",
      "Epoch 3/10\n",
      "36639/36639 [==============================] - 12s 315us/step - loss: 0.0058 - acc: 0.9991 - val_loss: 0.0203 - val_acc: 0.9925\n",
      "Epoch 4/10\n",
      "36639/36639 [==============================] - 12s 337us/step - loss: 0.0025 - acc: 0.9996 - val_loss: 0.0203 - val_acc: 0.9928\n",
      "Epoch 5/10\n",
      "36639/36639 [==============================] - 12s 317us/step - loss: 0.0012 - acc: 0.9998 - val_loss: 0.0205 - val_acc: 0.9921\n",
      "Epoch 6/10\n",
      "36639/36639 [==============================] - 12s 315us/step - loss: 7.1293e-04 - acc: 0.9999 - val_loss: 0.0208 - val_acc: 0.9924\n",
      "Epoch 7/10\n",
      "36639/36639 [==============================] - 12s 334us/step - loss: 3.8428e-04 - acc: 0.9999 - val_loss: 0.0217 - val_acc: 0.9923\n",
      "Epoch 8/10\n",
      "36639/36639 [==============================] - 12s 327us/step - loss: 2.2680e-04 - acc: 1.0000 - val_loss: 0.0215 - val_acc: 0.9920\n",
      "Epoch 9/10\n",
      "36639/36639 [==============================] - 11s 311us/step - loss: 2.2888e-04 - acc: 1.0000 - val_loss: 0.0248 - val_acc: 0.9925\n",
      "Epoch 10/10\n",
      "36639/36639 [==============================] - 12s 317us/step - loss: 1.1976e-04 - acc: 1.0000 - val_loss: 0.0238 - val_acc: 0.9926\n",
      "Deep learning standard: \t(accuracy, f1) = (0.99116, 0.99087)\n"
     ]
    }
   ],
   "source": [
    "model3 = Sequential()\n",
    "model3.add(Dense(128, input_shape=(shape[1],), activation='relu'))\n",
    "model3.add(Dropout(0.2))\n",
    "model3.add(Dense(1, activation='sigmoid'))\n",
    "model3.summary()\n",
    "\n",
    "model3.compile(loss='binary_crossentropy',\n",
    "               optimizer='adam',\n",
    "               metrics=['acc'])\n",
    "model3.fit(X_train, y_train, validation_data=(X_val, y_val), batch_size=32, epochs=10)\n",
    "\n",
    "y_pred3 = model3.predict_classes(X_test)\n",
    "print_result(y_pred2, y_test, \"Deep learning standard: \")"
   ]
  },
  {
   "cell_type": "code",
   "execution_count": 0,
   "metadata": {
    "colab": {},
    "colab_type": "code",
    "id": "CVBtMMv2Ukd2"
   },
   "outputs": [],
   "source": []
  }
 ],
 "metadata": {
  "accelerator": "GPU",
  "colab": {
   "name": "DL-Standard-CSIC.ipynb",
   "provenance": [],
   "toc_visible": true,
   "version": "0.3.2"
  },
  "kernelspec": {
   "display_name": "Python 3",
   "language": "python",
   "name": "python3"
  },
  "language_info": {
   "codemirror_mode": {
    "name": "ipython",
    "version": 3
   },
   "file_extension": ".py",
   "mimetype": "text/x-python",
   "name": "python",
   "nbconvert_exporter": "python",
   "pygments_lexer": "ipython3",
   "version": "3.6.6"
  }
 },
 "nbformat": 4,
 "nbformat_minor": 1
}
