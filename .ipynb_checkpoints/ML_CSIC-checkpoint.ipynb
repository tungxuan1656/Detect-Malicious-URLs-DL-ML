{
 "cells": [
  {
   "cell_type": "code",
   "execution_count": 1,
   "metadata": {
    "colab": {},
    "colab_type": "code",
    "id": "rVONY7vrKS2r"
   },
   "outputs": [],
   "source": [
    "from sklearn.feature_extraction.text import TfidfVectorizer\n",
    "from sklearn.model_selection import train_test_split\n",
    "from sklearn.linear_model import LogisticRegression\n",
    "import urllib.parse\n",
    "from sklearn import tree\n",
    "from sklearn.ensemble import RandomForestClassifier\n",
    "import io\n",
    "from sklearn.svm import LinearSVC\n",
    "from sklearn.metrics import accuracy_score, f1_score, confusion_matrix\n",
    "import os\n",
    "import warnings\n",
    "warnings.filterwarnings(\"ignore\")"
   ]
  },
  {
   "cell_type": "code",
   "execution_count": 2,
   "metadata": {
    "colab": {},
    "colab_type": "code",
    "id": "x_Zizr64KS2v"
   },
   "outputs": [],
   "source": [
    "def loadData(file):\n",
    "    with open(file, 'r', encoding=\"utf8\") as f:\n",
    "        data = f.readlines()\n",
    "    result = []\n",
    "    for d in data:\n",
    "        d = d.strip()\n",
    "        if (len(d) > 0):\n",
    "            result.append(d)\n",
    "    return result\n",
    "def print_result(X_train, X_test, y_train, y_test, clf, clf_name):\n",
    "    clf.fit(X_train, y_train)\n",
    "    y_pred = clf.predict(X_test)\n",
    "    ACC = accuracy_score(y_pred, y_test)\n",
    "    F1 = f1_score(y_pred, y_test, average='macro')\n",
    "    print(\"%s\\t(accuracy, f1) = (%.5f, %.5f)\"%(clf_name, ACC, F1))"
   ]
  },
  {
   "cell_type": "code",
   "execution_count": 3,
   "metadata": {
    "colab": {},
    "colab_type": "code",
    "id": "2xJYhYwgKS25"
   },
   "outputs": [],
   "source": [
    "bad_requests = loadData('anomalousRequestTest.txt')\n",
    "good_requests = loadData('normalRequestTraining.txt')"
   ]
  },
  {
   "cell_type": "code",
   "execution_count": 4,
   "metadata": {
    "colab": {},
    "colab_type": "code",
    "id": "i3c4PTUnKS28"
   },
   "outputs": [],
   "source": [
    "all_requests = bad_requests + good_requests\n",
    "yBad = [1] * len(bad_requests)\n",
    "yGood = [0] * len(good_requests)\n",
    "y = yBad + yGood"
   ]
  },
  {
   "cell_type": "code",
   "execution_count": 5,
   "metadata": {
    "colab": {
     "base_uri": "https://localhost:8080/",
     "height": 68
    },
    "colab_type": "code",
    "id": "GtPXjy5fKS2_",
    "outputId": "c83db201-4caa-4486-88ee-6e4e69a532ff"
   },
   "outputs": [
    {
     "name": "stdout",
     "output_type": "stream",
     "text": [
      "Total requests :  61065\n",
      "Bad requests:  25065\n",
      "Good requests:  36000\n"
     ]
    }
   ],
   "source": [
    "print(\"Total requests : \", len(all_requests))\n",
    "print(\"Bad requests: \", len(bad_requests))\n",
    "print(\"Good requests: \", len(good_requests))"
   ]
  },
  {
   "cell_type": "code",
   "execution_count": 6,
   "metadata": {
    "colab": {},
    "colab_type": "code",
    "id": "VPuxGENCKS3M"
   },
   "outputs": [],
   "source": [
    "vectorizer = TfidfVectorizer(min_df=0.0, analyzer=\"char\", sublinear_tf=True, ngram_range=(3, 3))\n",
    "X = vectorizer.fit_transform(all_requests)"
   ]
  },
  {
   "cell_type": "code",
   "execution_count": 7,
   "metadata": {
    "colab": {},
    "colab_type": "code",
    "id": "Gp6EUENKKS3S"
   },
   "outputs": [],
   "source": [
    "X_train, X_test, y_train, y_test = train_test_split(X, y, test_size = 0.2, random_state = 21)"
   ]
  },
  {
   "cell_type": "code",
   "execution_count": 8,
   "metadata": {
    "colab": {
     "base_uri": "https://localhost:8080/",
     "height": 85
    },
    "colab_type": "code",
    "id": "kofxrrwSKS3Z",
    "outputId": "3b53175c-c679-4d31-fae3-54ba4ba4656b"
   },
   "outputs": [
    {
     "name": "stdout",
     "output_type": "stream",
     "text": [
      "Requests for Train:  48852\n",
      "Requests for Test:  12213\n",
      "Use Trigram (n=3). Split Train:Test = 8:2\n"
     ]
    }
   ],
   "source": [
    "print(\"Requests for Train: \", len(y_train))\n",
    "print(\"Requests for Test: \", len(y_test))\n",
    "print(\"Use Trigram (n=3). Split Train:Test = 8:2\")"
   ]
  },
  {
   "cell_type": "code",
   "execution_count": 9,
   "metadata": {
    "colab": {},
    "colab_type": "code",
    "id": "mb-vneAVKS3l"
   },
   "outputs": [],
   "source": [
    "lgs = LogisticRegression()\n",
    "dtc = tree.DecisionTreeClassifier()\n",
    "linear_svm = LinearSVC(C=1)\n",
    "rfc = RandomForestClassifier(n_estimators=50)"
   ]
  },
  {
   "cell_type": "code",
   "execution_count": 10,
   "metadata": {
    "colab": {
     "base_uri": "https://localhost:8080/",
     "height": 85
    },
    "colab_type": "code",
    "id": "sPj8N6OFKS3t",
    "outputId": "00430f82-3218-4698-b081-5638d0ec7185"
   },
   "outputs": [
    {
     "name": "stdout",
     "output_type": "stream",
     "text": [
      "Logistic Regression         \t(accuracy, f1) = (0.97544, 0.97462)\n",
      "Decision Tree               \t(accuracy, f1) = (0.98338, 0.98286)\n",
      "Linear SVM (C=1)             \t(accuracy, f1) = (0.99329, 0.99307)\n",
      "Random Forest(tree=50)      \t(accuracy, f1) = (0.98035, 0.97971)\n"
     ]
    }
   ],
   "source": [
    "print_result(X_train, X_test, y_train, y_test, lgs, \"Logistic Regression         \")\n",
    "print_result(X_train, X_test, y_train, y_test, dtc, \"Decision Tree               \")\n",
    "print_result(X_train, X_test, y_train, y_test, linear_svm, \"Linear SVM (C=1)             \")\n",
    "print_result(X_train, X_test, y_train, y_test, rfc, \"Random Forest(tree=50)      \")"
   ]
  }
 ],
 "metadata": {
  "accelerator": "GPU",
  "colab": {
   "name": "main.ipynb",
   "provenance": [],
   "version": "0.3.2"
  },
  "kernelspec": {
   "display_name": "Python 3",
   "language": "python",
   "name": "python3"
  },
  "language_info": {
   "codemirror_mode": {
    "name": "ipython",
    "version": 3
   },
   "file_extension": ".py",
   "mimetype": "text/x-python",
   "name": "python",
   "nbconvert_exporter": "python",
   "pygments_lexer": "ipython3",
   "version": "3.6.6"
  }
 },
 "nbformat": 4,
 "nbformat_minor": 1
}
