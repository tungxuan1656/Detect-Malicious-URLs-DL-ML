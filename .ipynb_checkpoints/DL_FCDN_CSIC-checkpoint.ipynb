{
 "cells": [
  {
   "cell_type": "code",
   "execution_count": 1,
   "metadata": {
    "colab": {
     "base_uri": "https://localhost:8080/",
     "height": 34
    },
    "colab_type": "code",
    "id": "02YQOrY5Ukbr",
    "outputId": "38be8bda-2de2-4a28-8d93-cff7519125c5"
   },
   "outputs": [
    {
     "name": "stderr",
     "output_type": "stream",
     "text": [
      "Using TensorFlow backend.\n"
     ]
    }
   ],
   "source": [
    "from sklearn.feature_extraction.text import TfidfVectorizer\n",
    "from sklearn.model_selection import train_test_split\n",
    "from sklearn import tree\n",
    "from keras.models import Sequential\n",
    "from sklearn.metrics import accuracy_score, f1_score\n",
    "from keras.layers import Dense, Dropout, Activation, Reshape\n",
    "import warnings\n",
    "warnings.filterwarnings(\"ignore\")"
   ]
  },
  {
   "cell_type": "code",
   "execution_count": 0,
   "metadata": {
    "colab": {},
    "colab_type": "code",
    "id": "W76rII38Ukbw"
   },
   "outputs": [],
   "source": [
    "def loadData(file):\n",
    "    with open(file, 'r', encoding=\"utf8\") as f:\n",
    "        data = f.readlines()\n",
    "    result = []\n",
    "    for d in data:\n",
    "        d = d.strip()\n",
    "        if (len(d) > 0):\n",
    "            result.append(d)\n",
    "    return result\n",
    "def print_result(y_pred, y_test, clf_name):\n",
    "    ACC = accuracy_score(y_pred, y_test)\n",
    "    F1 = f1_score(y_pred, y_test, average='macro')\n",
    "    print(\"%s\\t(accuracy, f1) = (%.5f, %.5f)\"%(clf_name, ACC, F1))"
   ]
  },
  {
   "cell_type": "code",
   "execution_count": 0,
   "metadata": {
    "colab": {},
    "colab_type": "code",
    "id": "6HdGEJw2Ukb4"
   },
   "outputs": [],
   "source": [
    "bad_requests = loadData('anomalousRequest.txt')\n",
    "good_requests = loadData('normalRequest.txt')"
   ]
  },
  {
   "cell_type": "code",
   "execution_count": 0,
   "metadata": {
    "colab": {},
    "colab_type": "code",
    "id": "iTlvl5b6Ukb7"
   },
   "outputs": [],
   "source": [
    "all_requests = bad_requests + good_requests\n",
    "y_bad = [1] * len(bad_requests)\n",
    "y_good = [0] * len(good_requests)"
   ]
  },
  {
   "cell_type": "code",
   "execution_count": 5,
   "metadata": {
    "colab": {
     "base_uri": "https://localhost:8080/",
     "height": 68
    },
    "colab_type": "code",
    "id": "Z4NZG1yfUkb-",
    "outputId": "b63e15cb-32ee-4617-a40f-e5f4aaccc920"
   },
   "outputs": [
    {
     "name": "stdout",
     "output_type": "stream",
     "text": [
      "Total requests :  61065\n",
      "Bad requests:  25065\n",
      "Good requests:  36000\n"
     ]
    }
   ],
   "source": [
    "print(\"Total requests : \", len(all_requests))\n",
    "print(\"Bad requests: \", len(bad_requests))\n",
    "print(\"Good requests: \", len(good_requests))"
   ]
  },
  {
   "cell_type": "code",
   "execution_count": 0,
   "metadata": {
    "colab": {},
    "colab_type": "code",
    "id": "XpztVFesUkcH"
   },
   "outputs": [],
   "source": [
    "vectorizer = TfidfVectorizer(min_df=0.0, analyzer=\"char\", sublinear_tf=True, ngram_range=(3, 3))"
   ]
  },
  {
   "cell_type": "markdown",
   "metadata": {
    "colab_type": "text",
    "id": "sNWYMoT-1Ira"
   },
   "source": [
    "Tách lần lượt normal_data và malicious_data thành 3 tập train, validation, test đều nhau"
   ]
  },
  {
   "cell_type": "code",
   "execution_count": 0,
   "metadata": {
    "colab": {},
    "colab_type": "code",
    "id": "_P9BIKnqubLM"
   },
   "outputs": [],
   "source": [
    "normal_train, normal_test, y_normal_train, y_normal_test = train_test_split(good_requests, y_good, test_size = 0.4, random_state = 22)\n",
    "malicious_train, malicious_test, y_malicious_train, y_malicious_test = train_test_split(bad_requests, y_bad, test_size = 0.4, random_state = 22)\n",
    "normal_test, normal_val, y_normal_test, y_normal_val = train_test_split(normal_test, y_normal_test, test_size = 0.5, random_state = 11)\n",
    "malicious_test, malicious_val, y_malicious_test, y_malicious_val = train_test_split(malicious_test, y_malicious_test, test_size = 0.5, random_state = 11)"
   ]
  },
  {
   "cell_type": "code",
   "execution_count": 0,
   "metadata": {
    "colab": {},
    "colab_type": "code",
    "id": "DGL9Mgqqv_4K"
   },
   "outputs": [],
   "source": [
    "train = normal_train + malicious_train\n",
    "y_train = y_normal_train + y_malicious_train\n",
    "val = normal_val + malicious_val\n",
    "y_val = y_normal_val + y_malicious_val\n",
    "test = normal_test + malicious_test\n",
    "y_test = y_normal_test + y_malicious_test"
   ]
  },
  {
   "cell_type": "code",
   "execution_count": 9,
   "metadata": {
    "colab": {
     "base_uri": "https://localhost:8080/",
     "height": 102
    },
    "colab_type": "code",
    "id": "FTZQ14q_xyL_",
    "outputId": "99d043d5-c279-4d6d-a675-721ac9711637"
   },
   "outputs": [
    {
     "name": "stdout",
     "output_type": "stream",
     "text": [
      "Requests for Train data: (36639); (normal, malicious) = (21600, 15039)\n",
      "Requests for Validation data: (12213); (normal, malicious) = (7200, 5013)\n",
      "Requests for Test data: (12213); (normal, malicious) = (7200, 5013)\n",
      "Use Trigram (n=3). Split Train:Validation:Test = 6:2:2\n",
      "\n"
     ]
    }
   ],
   "source": [
    "print(\"Requests for Train data: %d\\t (normal, malicious) = (%d, %d)\"%(len(train), len(normal_train), len(malicious_train)))\n",
    "print(\"Requests for Validation data: %d\\t (normal, malicious) = (%d, %d)\"%(len(val), len(normal_val), len(malicious_val)))\n",
    "print(\"Requests for Test data: %d\\t (normal, malicious) = (%d, %d)\"%(len(test), len(normal_test), len(malicious_test)))\n",
    "print(\"Use Trigram (n=3). Split Train:Validation:Test = 6:2:2\\n\")"
   ]
  },
  {
   "cell_type": "markdown",
   "metadata": {
    "colab_type": "text",
    "id": "N49pKaTo1VzM"
   },
   "source": [
    "fit dữ liệu train và transform 3 tập dữ liệu"
   ]
  },
  {
   "cell_type": "code",
   "execution_count": 10,
   "metadata": {
    "colab": {
     "base_uri": "https://localhost:8080/",
     "height": 136
    },
    "colab_type": "code",
    "id": "_o8TTZUuxRhZ",
    "outputId": "e9059a8b-bf29-4924-8e05-b62e86456cfd"
   },
   "outputs": [
    {
     "data": {
      "text/plain": [
       "TfidfVectorizer(analyzer='char', binary=False, decode_error='strict',\n",
       "        dtype=<class 'numpy.float64'>, encoding='utf-8', input='content',\n",
       "        lowercase=True, max_df=1.0, max_features=None, min_df=0.0,\n",
       "        ngram_range=(3, 3), norm='l2', preprocessor=None, smooth_idf=True,\n",
       "        stop_words=None, strip_accents=None, sublinear_tf=True,\n",
       "        token_pattern='(?u)\\\\b\\\\w\\\\w+\\\\b', tokenizer=None, use_idf=True,\n",
       "        vocabulary=None)"
      ]
     },
     "execution_count": 10,
     "metadata": {
      "tags": []
     },
     "output_type": "execute_result"
    }
   ],
   "source": [
    "vectorizer.fit(train)"
   ]
  },
  {
   "cell_type": "code",
   "execution_count": 0,
   "metadata": {
    "colab": {},
    "colab_type": "code",
    "id": "rk2iq6xzxY3i"
   },
   "outputs": [],
   "source": [
    "X_train = vectorizer.transform(train)\n",
    "X_val = vectorizer.transform(val)\n",
    "X_test = vectorizer.transform(test)"
   ]
  },
  {
   "cell_type": "code",
   "execution_count": 12,
   "metadata": {
    "colab": {
     "base_uri": "https://localhost:8080/",
     "height": 68
    },
    "colab_type": "code",
    "id": "o9zfKaAry-1m",
    "outputId": "d507ef91-a792-4543-e8c7-84964f8c87f8"
   },
   "outputs": [
    {
     "name": "stdout",
     "output_type": "stream",
     "text": [
      "Shape of X_train:  (36639, 27511)\n",
      "Shape of X_val:  (12213, 27511)\n",
      "Shape of X_test:  (12213, 27511)\n"
     ]
    }
   ],
   "source": [
    "print(\"Shape of X_train: \", X_train.shape)\n",
    "print(\"Shape of X_val: \", X_val.shape)\n",
    "print(\"Shape of X_test: \", X_test.shape)"
   ]
  },
  {
   "cell_type": "code",
   "execution_count": 0,
   "metadata": {
    "colab": {},
    "colab_type": "code",
    "id": "jnFWNLDQUkcR"
   },
   "outputs": [],
   "source": [
    "shape = X_train.shape"
   ]
  },
  {
   "cell_type": "markdown",
   "metadata": {
    "colab_type": "text",
    "id": "Nv3CQpAejE1J"
   },
   "source": [
    "## Model cơ bản"
   ]
  },
  {
   "cell_type": "code",
   "execution_count": 20,
   "metadata": {
    "colab": {
     "base_uri": "https://localhost:8080/",
     "height": 612
    },
    "colab_type": "code",
    "id": "g_pMUPEsUkcY",
    "outputId": "64998802-bf4c-4ae0-8dfa-f0d591ad8bee"
   },
   "outputs": [
    {
     "name": "stdout",
     "output_type": "stream",
     "text": [
      "_________________________________________________________________\n",
      "Layer (type)                 Output Shape              Param #   \n",
      "=================================================================\n",
      "dense_15 (Dense)             (None, 32)                880384    \n",
      "_________________________________________________________________\n",
      "dropout_7 (Dropout)          (None, 32)                0         \n",
      "_________________________________________________________________\n",
      "dense_16 (Dense)             (None, 1)                 33        \n",
      "=================================================================\n",
      "Total params: 880,417\n",
      "Trainable params: 880,417\n",
      "Non-trainable params: 0\n",
      "_________________________________________________________________\n",
      "Train on 36639 samples, validate on 12213 samples\n",
      "Epoch 1/10\n",
      "36639/36639 [==============================] - 10s 266us/step - loss: 0.2367 - acc: 0.9144 - val_loss: 0.0903 - val_acc: 0.9808\n",
      "Epoch 2/10\n",
      "36639/36639 [==============================] - 9s 248us/step - loss: 0.0478 - acc: 0.9916 - val_loss: 0.0430 - val_acc: 0.9876\n",
      "Epoch 3/10\n",
      "36639/36639 [==============================] - 9s 246us/step - loss: 0.0184 - acc: 0.9963 - val_loss: 0.0297 - val_acc: 0.9907\n",
      "Epoch 4/10\n",
      "36639/36639 [==============================] - 9s 247us/step - loss: 0.0087 - acc: 0.9984 - val_loss: 0.0266 - val_acc: 0.9912\n",
      "Epoch 5/10\n",
      "36639/36639 [==============================] - 9s 246us/step - loss: 0.0052 - acc: 0.9991 - val_loss: 0.0251 - val_acc: 0.9914\n",
      "Epoch 6/10\n",
      "36639/36639 [==============================] - 9s 257us/step - loss: 0.0030 - acc: 0.9993 - val_loss: 0.0237 - val_acc: 0.9923\n",
      "Epoch 7/10\n",
      "36639/36639 [==============================] - 10s 272us/step - loss: 0.0018 - acc: 0.9997 - val_loss: 0.0260 - val_acc: 0.9920\n",
      "Epoch 8/10\n",
      "36639/36639 [==============================] - 9s 248us/step - loss: 0.0010 - acc: 0.9999 - val_loss: 0.0268 - val_acc: 0.9920\n",
      "Epoch 9/10\n",
      "36639/36639 [==============================] - 9s 247us/step - loss: 7.8652e-04 - acc: 0.9999 - val_loss: 0.0277 - val_acc: 0.9921\n",
      "Epoch 10/10\n",
      "36639/36639 [==============================] - 9s 246us/step - loss: 4.4698e-04 - acc: 0.9999 - val_loss: 0.0266 - val_acc: 0.9928\n",
      "Deep learning standard: \t(accuracy, f1) = (0.99165, 0.99136)\n"
     ]
    }
   ],
   "source": [
    "model = Sequential()\n",
    "model.add(Dense(32, input_shape=(shape[1],), activation='relu'))\n",
    "model.add(Dropout(0.2))\n",
    "model.add(Dense(1, activation='sigmoid'))\n",
    "model.summary()\n",
    "\n",
    "model.compile(loss='binary_crossentropy',\n",
    "              optimizer='adam',\n",
    "              metrics=['acc'])\n",
    "model.fit(X_train, y_train, validation_data=(X_val, y_val), batch_size=32, epochs=10)\n",
    "\n",
    "y_pred = model.predict_classes(X_test)\n",
    "print_result(y_pred, y_test, \"Deep learning standard: \")"
   ]
  },
  {
   "cell_type": "markdown",
   "metadata": {
    "colab_type": "text",
    "id": "aRWQl0bKUkcq"
   },
   "source": [
    "## Tăng số lượng tầng Dense\n",
    "Kết quả đạt được thì lại kém hơn so với mạng standard cơ bản\n",
    "### Kết luận: Việc tăng số lượng tầng không đem lại hiệu quả"
   ]
  },
  {
   "cell_type": "code",
   "execution_count": 15,
   "metadata": {
    "colab": {
     "base_uri": "https://localhost:8080/",
     "height": 680
    },
    "colab_type": "code",
    "id": "G2h99g8YUkcs",
    "outputId": "249703e1-bcf3-4d6e-fec3-878f2cd41c05"
   },
   "outputs": [
    {
     "name": "stdout",
     "output_type": "stream",
     "text": [
      "_________________________________________________________________\n",
      "Layer (type)                 Output Shape              Param #   \n",
      "=================================================================\n",
      "dense_3 (Dense)              (None, 32)                880384    \n",
      "_________________________________________________________________\n",
      "dense_4 (Dense)              (None, 32)                1056      \n",
      "_________________________________________________________________\n",
      "dense_5 (Dense)              (None, 32)                1056      \n",
      "_________________________________________________________________\n",
      "dropout_2 (Dropout)          (None, 32)                0         \n",
      "_________________________________________________________________\n",
      "dense_6 (Dense)              (None, 1)                 33        \n",
      "=================================================================\n",
      "Total params: 882,529\n",
      "Trainable params: 882,529\n",
      "Non-trainable params: 0\n",
      "_________________________________________________________________\n",
      "Train on 36639 samples, validate on 12213 samples\n",
      "Epoch 1/10\n",
      "36639/36639 [==============================] - 10s 284us/step - loss: 0.1356 - acc: 0.9425 - val_loss: 0.0446 - val_acc: 0.9849\n",
      "Epoch 2/10\n",
      "36639/36639 [==============================] - 10s 264us/step - loss: 0.0107 - acc: 0.9970 - val_loss: 0.0372 - val_acc: 0.9883\n",
      "Epoch 3/10\n",
      "36639/36639 [==============================] - 10s 260us/step - loss: 0.0030 - acc: 0.9992 - val_loss: 0.0502 - val_acc: 0.9875\n",
      "Epoch 4/10\n",
      "36639/36639 [==============================] - 10s 260us/step - loss: 0.0019 - acc: 0.9995 - val_loss: 0.0404 - val_acc: 0.9904\n",
      "Epoch 5/10\n",
      "36639/36639 [==============================] - 10s 260us/step - loss: 6.6409e-05 - acc: 1.0000 - val_loss: 0.0460 - val_acc: 0.9907\n",
      "Epoch 6/10\n",
      "36639/36639 [==============================] - 10s 270us/step - loss: 2.6929e-05 - acc: 1.0000 - val_loss: 0.0496 - val_acc: 0.9907\n",
      "Epoch 7/10\n",
      "36639/36639 [==============================] - 10s 262us/step - loss: 0.0043 - acc: 0.9990 - val_loss: 0.0403 - val_acc: 0.9913\n",
      "Epoch 8/10\n",
      "36639/36639 [==============================] - 10s 263us/step - loss: 3.6860e-04 - acc: 0.9999 - val_loss: 0.0519 - val_acc: 0.9904\n",
      "Epoch 9/10\n",
      "36639/36639 [==============================] - 10s 272us/step - loss: 0.0076 - acc: 0.9979 - val_loss: 0.0521 - val_acc: 0.9885\n",
      "Epoch 10/10\n",
      "36639/36639 [==============================] - 10s 272us/step - loss: 0.0028 - acc: 0.9992 - val_loss: 0.0341 - val_acc: 0.9908\n",
      "Deep learning standard: \t(accuracy, f1) = (0.98985, 0.98950)\n"
     ]
    }
   ],
   "source": [
    "model2 = Sequential()\n",
    "model2.add(Dense(32, input_shape=(shape[1],), activation='relu'))\n",
    "model2.add(Dense(32, activation='relu'))\n",
    "model2.add(Dense(32, activation='relu'))\n",
    "model2.add(Dropout(0.2))\n",
    "model2.add(Dense(1, activation='sigmoid'))\n",
    "model2.summary()\n",
    "\n",
    "model2.compile(loss='binary_crossentropy',\n",
    "               optimizer='adam',\n",
    "               metrics=['acc'])\n",
    "model2.fit(X_train, y_train, validation_data=(X_val, y_val), batch_size=32, epochs=10)\n",
    "\n",
    "y_pred2 = model2.predict_classes(X_test)\n",
    "print_result(y_pred2, y_test, \"Deep learning standard: \")"
   ]
  },
  {
   "cell_type": "markdown",
   "metadata": {
    "colab_type": "text",
    "id": "xl1byL11Ukc3"
   },
   "source": [
    "## Model 3 có độ rộng của tầng Dense tăng lên từ 32 lên 128\n",
    "Nhưng kết quả vẫn kém hơn so với model 1\n",
    "### Kết luận: Việc tăng độ rộng tầng Dense không đem lại hiệu quả"
   ]
  },
  {
   "cell_type": "code",
   "execution_count": 19,
   "metadata": {
    "colab": {
     "base_uri": "https://localhost:8080/",
     "height": 612
    },
    "colab_type": "code",
    "id": "nCA-o-uHUkc6",
    "outputId": "635569eb-5e49-4993-c41b-47964017335a"
   },
   "outputs": [
    {
     "name": "stdout",
     "output_type": "stream",
     "text": [
      "_________________________________________________________________\n",
      "Layer (type)                 Output Shape              Param #   \n",
      "=================================================================\n",
      "dense_13 (Dense)             (None, 128)               3521536   \n",
      "_________________________________________________________________\n",
      "dropout_6 (Dropout)          (None, 128)               0         \n",
      "_________________________________________________________________\n",
      "dense_14 (Dense)             (None, 1)                 129       \n",
      "=================================================================\n",
      "Total params: 3,521,665\n",
      "Trainable params: 3,521,665\n",
      "Non-trainable params: 0\n",
      "_________________________________________________________________\n",
      "Train on 36639 samples, validate on 12213 samples\n",
      "Epoch 1/10\n",
      "36639/36639 [==============================] - 12s 324us/step - loss: 0.1622 - acc: 0.9369 - val_loss: 0.0513 - val_acc: 0.9836\n",
      "Epoch 2/10\n",
      "36639/36639 [==============================] - 11s 304us/step - loss: 0.0190 - acc: 0.9958 - val_loss: 0.0325 - val_acc: 0.9884\n",
      "Epoch 3/10\n",
      "36639/36639 [==============================] - 11s 304us/step - loss: 0.0064 - acc: 0.9986 - val_loss: 0.0266 - val_acc: 0.9907\n",
      "Epoch 4/10\n",
      "36639/36639 [==============================] - 11s 302us/step - loss: 0.0028 - acc: 0.9994 - val_loss: 0.0240 - val_acc: 0.9919\n",
      "Epoch 5/10\n",
      "36639/36639 [==============================] - 11s 307us/step - loss: 0.0013 - acc: 0.9998 - val_loss: 0.0257 - val_acc: 0.9918\n",
      "Epoch 6/10\n",
      "36639/36639 [==============================] - 12s 318us/step - loss: 6.8502e-04 - acc: 0.9999 - val_loss: 0.0264 - val_acc: 0.9921\n",
      "Epoch 7/10\n",
      "36639/36639 [==============================] - 11s 303us/step - loss: 3.0580e-04 - acc: 1.0000 - val_loss: 0.0270 - val_acc: 0.9919\n",
      "Epoch 8/10\n",
      "36639/36639 [==============================] - 11s 303us/step - loss: 3.5708e-04 - acc: 0.9999 - val_loss: 0.0340 - val_acc: 0.9913\n",
      "Epoch 9/10\n",
      "36639/36639 [==============================] - 11s 303us/step - loss: 4.1082e-04 - acc: 0.9999 - val_loss: 0.0280 - val_acc: 0.9926\n",
      "Epoch 10/10\n",
      "36639/36639 [==============================] - 11s 302us/step - loss: 6.1966e-05 - acc: 1.0000 - val_loss: 0.0307 - val_acc: 0.9921\n",
      "Deep learning standard: \t(accuracy, f1) = (0.98985, 0.98950)\n"
     ]
    }
   ],
   "source": [
    "model3 = Sequential()\n",
    "model3.add(Dense(128, input_shape=(shape[1],), activation='relu'))\n",
    "model3.add(Dropout(0.2))\n",
    "model3.add(Dense(1, activation='sigmoid'))\n",
    "model3.summary()\n",
    "\n",
    "model3.compile(loss='binary_crossentropy',\n",
    "               optimizer='adam',\n",
    "               metrics=['acc'])\n",
    "model3.fit(X_train, y_train, validation_data=(X_val, y_val), batch_size=32, epochs=10)\n",
    "\n",
    "y_pred3 = model3.predict_classes(X_test)\n",
    "print_result(y_pred2, y_test, \"Deep learning standard: \")"
   ]
  },
  {
   "cell_type": "code",
   "execution_count": 0,
   "metadata": {
    "colab": {},
    "colab_type": "code",
    "id": "CVBtMMv2Ukd2"
   },
   "outputs": [],
   "source": []
  }
 ],
 "metadata": {
  "accelerator": "GPU",
  "colab": {
   "name": "DL-FCDN-CSIC.ipynb",
   "provenance": [],
   "version": "0.3.2"
  },
  "kernelspec": {
   "display_name": "Python 3",
   "language": "python",
   "name": "python3"
  },
  "language_info": {
   "codemirror_mode": {
    "name": "ipython",
    "version": 3
   },
   "file_extension": ".py",
   "mimetype": "text/x-python",
   "name": "python",
   "nbconvert_exporter": "python",
   "pygments_lexer": "ipython3",
   "version": "3.6.6"
  }
 },
 "nbformat": 4,
 "nbformat_minor": 1
}
